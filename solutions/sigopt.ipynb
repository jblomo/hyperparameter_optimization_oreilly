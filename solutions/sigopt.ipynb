{
 "cells": [
  {
   "cell_type": "markdown",
   "metadata": {},
   "source": [
    "# A Modeler Optimization Journey - A Fraud Detection Use Case"
   ]
  },
  {
   "cell_type": "markdown",
   "metadata": {},
   "source": [
    "## Demo Abstract"
   ]
  },
  {
   "cell_type": "markdown",
   "metadata": {},
   "source": [
    "The demo main objective is to showcase our MPM features and help modelers develop some intuition around the practical aspects of automated model optimization and parameter tuning. We will use an anomaly detection problem based on this [public synthetic dataset](https://www.kaggle.com/ntnu-testimon/paysim1). After presenting the use case and the dataset, we’ll dive into the optimization journey, presenting the model performance uplifts that a modeler can observe when following a structured optimization approach using [SigOpt](https://sigopt.com/)."
   ]
  },
  {
   "cell_type": "markdown",
   "metadata": {},
   "source": [
    "## Import Libraries"
   ]
  },
  {
   "cell_type": "code",
   "execution_count": 1,
   "metadata": {},
   "outputs": [],
   "source": [
    "import pandas as pd\n",
    "import numpy as np\n",
    "import math\n",
    "import sigopt\n",
    "%load_ext sigopt\n",
    "from scipy.stats import pearsonr\n",
    "from sklearn.model_selection import train_test_split\n",
    "from sklearn.metrics import confusion_matrix, average_precision_score, f1_score\n",
    "from sklearn.ensemble import RandomForestClassifier\n",
    "from sklearn.preprocessing import LabelEncoder, OneHotEncoder, StandardScaler\n",
    "from xgboost.sklearn import XGBClassifier\n",
    "from keras.callbacks import Callback\n",
    "from keras.models import Sequential\n",
    "from keras.layers import Dense\n",
    "from keras.optimizers import Adam\n",
    "from keras.wrappers.scikit_learn import KerasClassifier\n",
    "from keras.utils import np_utils\n",
    "import keras.backend as K\n",
    "import tensorflow as tf\n",
    "import os\n",
    "os.environ['SIGOPT_PROJECT'] = 'MLConf 1'\n",
    "import random"
   ]
  },
  {
   "cell_type": "markdown",
   "metadata": {},
   "source": [
    "# Data cleaning"
   ]
  },
  {
   "cell_type": "markdown",
   "metadata": {},
   "source": [
    "First we'll load the financial dataset."
   ]
  },
  {
   "cell_type": "code",
   "execution_count": 2,
   "metadata": {},
   "outputs": [],
   "source": [
    "original_df = pd.read_csv('~/src/sigopt-python-mpm/examples/PS_20174392719_1491204439457_log.csv')\n",
    "original_df = original_df.rename(columns={'oldbalanceOrg':'oldBalanceOrig', 'newbalanceOrig':'newBalanceOrig', \\\n",
    "                        'oldbalanceDest':'oldBalanceDest', 'newbalanceDest':'newBalanceDest'})"
   ]
  },
  {
   "cell_type": "code",
   "execution_count": 3,
   "metadata": {},
   "outputs": [
    {
     "data": {
      "text/html": [
       "<div>\n",
       "<style scoped>\n",
       "    .dataframe tbody tr th:only-of-type {\n",
       "        vertical-align: middle;\n",
       "    }\n",
       "\n",
       "    .dataframe tbody tr th {\n",
       "        vertical-align: top;\n",
       "    }\n",
       "\n",
       "    .dataframe thead th {\n",
       "        text-align: right;\n",
       "    }\n",
       "</style>\n",
       "<table border=\"1\" class=\"dataframe\">\n",
       "  <thead>\n",
       "    <tr style=\"text-align: right;\">\n",
       "      <th></th>\n",
       "      <th>step</th>\n",
       "      <th>type</th>\n",
       "      <th>amount</th>\n",
       "      <th>nameOrig</th>\n",
       "      <th>oldBalanceOrig</th>\n",
       "      <th>newBalanceOrig</th>\n",
       "      <th>nameDest</th>\n",
       "      <th>oldBalanceDest</th>\n",
       "      <th>newBalanceDest</th>\n",
       "      <th>isFraud</th>\n",
       "      <th>isFlaggedFraud</th>\n",
       "    </tr>\n",
       "  </thead>\n",
       "  <tbody>\n",
       "    <tr>\n",
       "      <th>0</th>\n",
       "      <td>1</td>\n",
       "      <td>PAYMENT</td>\n",
       "      <td>9839.64</td>\n",
       "      <td>C1231006815</td>\n",
       "      <td>170136.00</td>\n",
       "      <td>160296.36</td>\n",
       "      <td>M1979787155</td>\n",
       "      <td>0.00</td>\n",
       "      <td>0.00</td>\n",
       "      <td>0</td>\n",
       "      <td>0</td>\n",
       "    </tr>\n",
       "    <tr>\n",
       "      <th>1</th>\n",
       "      <td>1</td>\n",
       "      <td>PAYMENT</td>\n",
       "      <td>1864.28</td>\n",
       "      <td>C1666544295</td>\n",
       "      <td>21249.00</td>\n",
       "      <td>19384.72</td>\n",
       "      <td>M2044282225</td>\n",
       "      <td>0.00</td>\n",
       "      <td>0.00</td>\n",
       "      <td>0</td>\n",
       "      <td>0</td>\n",
       "    </tr>\n",
       "    <tr>\n",
       "      <th>2</th>\n",
       "      <td>1</td>\n",
       "      <td>TRANSFER</td>\n",
       "      <td>181.00</td>\n",
       "      <td>C1305486145</td>\n",
       "      <td>181.00</td>\n",
       "      <td>0.00</td>\n",
       "      <td>C553264065</td>\n",
       "      <td>0.00</td>\n",
       "      <td>0.00</td>\n",
       "      <td>1</td>\n",
       "      <td>0</td>\n",
       "    </tr>\n",
       "    <tr>\n",
       "      <th>3</th>\n",
       "      <td>1</td>\n",
       "      <td>CASH_OUT</td>\n",
       "      <td>181.00</td>\n",
       "      <td>C840083671</td>\n",
       "      <td>181.00</td>\n",
       "      <td>0.00</td>\n",
       "      <td>C38997010</td>\n",
       "      <td>21182.00</td>\n",
       "      <td>0.00</td>\n",
       "      <td>1</td>\n",
       "      <td>0</td>\n",
       "    </tr>\n",
       "    <tr>\n",
       "      <th>4</th>\n",
       "      <td>1</td>\n",
       "      <td>PAYMENT</td>\n",
       "      <td>11668.14</td>\n",
       "      <td>C2048537720</td>\n",
       "      <td>41554.00</td>\n",
       "      <td>29885.86</td>\n",
       "      <td>M1230701703</td>\n",
       "      <td>0.00</td>\n",
       "      <td>0.00</td>\n",
       "      <td>0</td>\n",
       "      <td>0</td>\n",
       "    </tr>\n",
       "    <tr>\n",
       "      <th>...</th>\n",
       "      <td>...</td>\n",
       "      <td>...</td>\n",
       "      <td>...</td>\n",
       "      <td>...</td>\n",
       "      <td>...</td>\n",
       "      <td>...</td>\n",
       "      <td>...</td>\n",
       "      <td>...</td>\n",
       "      <td>...</td>\n",
       "      <td>...</td>\n",
       "      <td>...</td>\n",
       "    </tr>\n",
       "    <tr>\n",
       "      <th>6362615</th>\n",
       "      <td>743</td>\n",
       "      <td>CASH_OUT</td>\n",
       "      <td>339682.13</td>\n",
       "      <td>C786484425</td>\n",
       "      <td>339682.13</td>\n",
       "      <td>0.00</td>\n",
       "      <td>C776919290</td>\n",
       "      <td>0.00</td>\n",
       "      <td>339682.13</td>\n",
       "      <td>1</td>\n",
       "      <td>0</td>\n",
       "    </tr>\n",
       "    <tr>\n",
       "      <th>6362616</th>\n",
       "      <td>743</td>\n",
       "      <td>TRANSFER</td>\n",
       "      <td>6311409.28</td>\n",
       "      <td>C1529008245</td>\n",
       "      <td>6311409.28</td>\n",
       "      <td>0.00</td>\n",
       "      <td>C1881841831</td>\n",
       "      <td>0.00</td>\n",
       "      <td>0.00</td>\n",
       "      <td>1</td>\n",
       "      <td>0</td>\n",
       "    </tr>\n",
       "    <tr>\n",
       "      <th>6362617</th>\n",
       "      <td>743</td>\n",
       "      <td>CASH_OUT</td>\n",
       "      <td>6311409.28</td>\n",
       "      <td>C1162922333</td>\n",
       "      <td>6311409.28</td>\n",
       "      <td>0.00</td>\n",
       "      <td>C1365125890</td>\n",
       "      <td>68488.84</td>\n",
       "      <td>6379898.11</td>\n",
       "      <td>1</td>\n",
       "      <td>0</td>\n",
       "    </tr>\n",
       "    <tr>\n",
       "      <th>6362618</th>\n",
       "      <td>743</td>\n",
       "      <td>TRANSFER</td>\n",
       "      <td>850002.52</td>\n",
       "      <td>C1685995037</td>\n",
       "      <td>850002.52</td>\n",
       "      <td>0.00</td>\n",
       "      <td>C2080388513</td>\n",
       "      <td>0.00</td>\n",
       "      <td>0.00</td>\n",
       "      <td>1</td>\n",
       "      <td>0</td>\n",
       "    </tr>\n",
       "    <tr>\n",
       "      <th>6362619</th>\n",
       "      <td>743</td>\n",
       "      <td>CASH_OUT</td>\n",
       "      <td>850002.52</td>\n",
       "      <td>C1280323807</td>\n",
       "      <td>850002.52</td>\n",
       "      <td>0.00</td>\n",
       "      <td>C873221189</td>\n",
       "      <td>6510099.11</td>\n",
       "      <td>7360101.63</td>\n",
       "      <td>1</td>\n",
       "      <td>0</td>\n",
       "    </tr>\n",
       "  </tbody>\n",
       "</table>\n",
       "<p>6362620 rows × 11 columns</p>\n",
       "</div>"
      ],
      "text/plain": [
       "         step      type      amount     nameOrig  oldBalanceOrig  \\\n",
       "0           1   PAYMENT     9839.64  C1231006815       170136.00   \n",
       "1           1   PAYMENT     1864.28  C1666544295        21249.00   \n",
       "2           1  TRANSFER      181.00  C1305486145          181.00   \n",
       "3           1  CASH_OUT      181.00   C840083671          181.00   \n",
       "4           1   PAYMENT    11668.14  C2048537720        41554.00   \n",
       "...       ...       ...         ...          ...             ...   \n",
       "6362615   743  CASH_OUT   339682.13   C786484425       339682.13   \n",
       "6362616   743  TRANSFER  6311409.28  C1529008245      6311409.28   \n",
       "6362617   743  CASH_OUT  6311409.28  C1162922333      6311409.28   \n",
       "6362618   743  TRANSFER   850002.52  C1685995037       850002.52   \n",
       "6362619   743  CASH_OUT   850002.52  C1280323807       850002.52   \n",
       "\n",
       "         newBalanceOrig     nameDest  oldBalanceDest  newBalanceDest  isFraud  \\\n",
       "0             160296.36  M1979787155            0.00            0.00        0   \n",
       "1              19384.72  M2044282225            0.00            0.00        0   \n",
       "2                  0.00   C553264065            0.00            0.00        1   \n",
       "3                  0.00    C38997010        21182.00            0.00        1   \n",
       "4              29885.86  M1230701703            0.00            0.00        0   \n",
       "...                 ...          ...             ...             ...      ...   \n",
       "6362615            0.00   C776919290            0.00       339682.13        1   \n",
       "6362616            0.00  C1881841831            0.00            0.00        1   \n",
       "6362617            0.00  C1365125890        68488.84      6379898.11        1   \n",
       "6362618            0.00  C2080388513            0.00            0.00        1   \n",
       "6362619            0.00   C873221189      6510099.11      7360101.63        1   \n",
       "\n",
       "         isFlaggedFraud  \n",
       "0                     0  \n",
       "1                     0  \n",
       "2                     0  \n",
       "3                     0  \n",
       "4                     0  \n",
       "...                 ...  \n",
       "6362615               0  \n",
       "6362616               0  \n",
       "6362617               0  \n",
       "6362618               0  \n",
       "6362619               0  \n",
       "\n",
       "[6362620 rows x 11 columns]"
      ]
     },
     "execution_count": 3,
     "metadata": {},
     "output_type": "execute_result"
    }
   ],
   "source": [
    "df = original_df\n",
    "\n",
    "df"
   ]
  },
  {
   "cell_type": "markdown",
   "metadata": {},
   "source": [
    "Let's check the number of categories in `nameOrig` and `nameDest`."
   ]
  },
  {
   "cell_type": "code",
   "execution_count": 4,
   "metadata": {},
   "outputs": [
    {
     "name": "stdout",
     "output_type": "stream",
     "text": [
      "card(nameOrig) = 6353307\n",
      "card(nameDest) = 2722362\n"
     ]
    }
   ],
   "source": [
    "print('card(nameOrig) =', len(set(df['nameOrig'])))\n",
    "print('card(nameDest) =', len(set(df['nameDest'])))"
   ]
  },
  {
   "cell_type": "markdown",
   "metadata": {},
   "source": [
    "That's a lot of categories! We'll drop these features for now and take a look at the others."
   ]
  },
  {
   "cell_type": "code",
   "execution_count": 5,
   "metadata": {},
   "outputs": [],
   "source": [
    "df = df.drop(['nameOrig', 'nameDest'], axis=1)"
   ]
  },
  {
   "cell_type": "markdown",
   "metadata": {},
   "source": [
    "The remaining non-binary and non-numerical column is the `type` column."
   ]
  },
  {
   "cell_type": "code",
   "execution_count": 6,
   "metadata": {},
   "outputs": [
    {
     "name": "stdout",
     "output_type": "stream",
     "text": [
      "categories(type) = {'CASH_IN', 'PAYMENT', 'DEBIT', 'TRANSFER', 'CASH_OUT'}\n"
     ]
    }
   ],
   "source": [
    "type_categories = set(df['type'])\n",
    "print('categories(type) =', type_categories)"
   ]
  },
  {
   "cell_type": "markdown",
   "metadata": {},
   "source": [
    "We can check the skew of each of these categories."
   ]
  },
  {
   "cell_type": "code",
   "execution_count": 7,
   "metadata": {},
   "outputs": [
    {
     "name": "stdout",
     "output_type": "stream",
     "text": [
      "skew(CASH_IN) = 0.0\n",
      "skew(PAYMENT) = 0.0\n",
      "skew(DEBIT) = 0.0\n",
      "skew(TRANSFER) = 0.007687991758442811\n",
      "skew(CASH_OUT) = 0.0018395530726256983\n"
     ]
    }
   ],
   "source": [
    "for category in type_categories:\n",
    "    positive_occurrences = sum((df['type'] == category) & df['isFraud'])\n",
    "    total_occurrences = sum((df['type'] == category))\n",
    "    skew = positive_occurrences / total_occurrences\n",
    "    print(f'skew({category}) =', skew)"
   ]
  },
  {
   "cell_type": "markdown",
   "metadata": {},
   "source": [
    "From this analysis we can see that there are no positive occurences for the `DEBIT`, `CASH_IN` and `PAYMENT` categories, ie. fraudulent transactions only occur when cash is taken out or transferred. We can implement this with business logic and exlude these categories from our dataset."
   ]
  },
  {
   "cell_type": "code",
   "execution_count": 8,
   "metadata": {},
   "outputs": [],
   "source": [
    "df = df[~df['type'].isin(['DEBIT', 'CASH_IN', 'PAYMENT'])]"
   ]
  },
  {
   "cell_type": "markdown",
   "metadata": {},
   "source": [
    "We can one-hot encode the remaining `type` categories so that we can analyze them with the other features."
   ]
  },
  {
   "cell_type": "code",
   "execution_count": 9,
   "metadata": {},
   "outputs": [
    {
     "data": {
      "text/html": [
       "<div>\n",
       "<style scoped>\n",
       "    .dataframe tbody tr th:only-of-type {\n",
       "        vertical-align: middle;\n",
       "    }\n",
       "\n",
       "    .dataframe tbody tr th {\n",
       "        vertical-align: top;\n",
       "    }\n",
       "\n",
       "    .dataframe thead th {\n",
       "        text-align: right;\n",
       "    }\n",
       "</style>\n",
       "<table border=\"1\" class=\"dataframe\">\n",
       "  <thead>\n",
       "    <tr style=\"text-align: right;\">\n",
       "      <th></th>\n",
       "      <th>step</th>\n",
       "      <th>amount</th>\n",
       "      <th>oldBalanceOrig</th>\n",
       "      <th>newBalanceOrig</th>\n",
       "      <th>oldBalanceDest</th>\n",
       "      <th>newBalanceDest</th>\n",
       "      <th>isFraud</th>\n",
       "      <th>isFlaggedFraud</th>\n",
       "      <th>typeTRANSFER</th>\n",
       "      <th>typeCASH_OUT</th>\n",
       "    </tr>\n",
       "  </thead>\n",
       "  <tbody>\n",
       "    <tr>\n",
       "      <th>2</th>\n",
       "      <td>1</td>\n",
       "      <td>181.00</td>\n",
       "      <td>181.00</td>\n",
       "      <td>0.0</td>\n",
       "      <td>0.00</td>\n",
       "      <td>0.00</td>\n",
       "      <td>1</td>\n",
       "      <td>0</td>\n",
       "      <td>1</td>\n",
       "      <td>0</td>\n",
       "    </tr>\n",
       "    <tr>\n",
       "      <th>3</th>\n",
       "      <td>1</td>\n",
       "      <td>181.00</td>\n",
       "      <td>181.00</td>\n",
       "      <td>0.0</td>\n",
       "      <td>21182.00</td>\n",
       "      <td>0.00</td>\n",
       "      <td>1</td>\n",
       "      <td>0</td>\n",
       "      <td>0</td>\n",
       "      <td>1</td>\n",
       "    </tr>\n",
       "    <tr>\n",
       "      <th>15</th>\n",
       "      <td>1</td>\n",
       "      <td>229133.94</td>\n",
       "      <td>15325.00</td>\n",
       "      <td>0.0</td>\n",
       "      <td>5083.00</td>\n",
       "      <td>51513.44</td>\n",
       "      <td>0</td>\n",
       "      <td>0</td>\n",
       "      <td>0</td>\n",
       "      <td>1</td>\n",
       "    </tr>\n",
       "    <tr>\n",
       "      <th>19</th>\n",
       "      <td>1</td>\n",
       "      <td>215310.30</td>\n",
       "      <td>705.00</td>\n",
       "      <td>0.0</td>\n",
       "      <td>22425.00</td>\n",
       "      <td>0.00</td>\n",
       "      <td>0</td>\n",
       "      <td>0</td>\n",
       "      <td>1</td>\n",
       "      <td>0</td>\n",
       "    </tr>\n",
       "    <tr>\n",
       "      <th>24</th>\n",
       "      <td>1</td>\n",
       "      <td>311685.89</td>\n",
       "      <td>10835.00</td>\n",
       "      <td>0.0</td>\n",
       "      <td>6267.00</td>\n",
       "      <td>2719172.89</td>\n",
       "      <td>0</td>\n",
       "      <td>0</td>\n",
       "      <td>1</td>\n",
       "      <td>0</td>\n",
       "    </tr>\n",
       "    <tr>\n",
       "      <th>...</th>\n",
       "      <td>...</td>\n",
       "      <td>...</td>\n",
       "      <td>...</td>\n",
       "      <td>...</td>\n",
       "      <td>...</td>\n",
       "      <td>...</td>\n",
       "      <td>...</td>\n",
       "      <td>...</td>\n",
       "      <td>...</td>\n",
       "      <td>...</td>\n",
       "    </tr>\n",
       "    <tr>\n",
       "      <th>6362615</th>\n",
       "      <td>743</td>\n",
       "      <td>339682.13</td>\n",
       "      <td>339682.13</td>\n",
       "      <td>0.0</td>\n",
       "      <td>0.00</td>\n",
       "      <td>339682.13</td>\n",
       "      <td>1</td>\n",
       "      <td>0</td>\n",
       "      <td>0</td>\n",
       "      <td>1</td>\n",
       "    </tr>\n",
       "    <tr>\n",
       "      <th>6362616</th>\n",
       "      <td>743</td>\n",
       "      <td>6311409.28</td>\n",
       "      <td>6311409.28</td>\n",
       "      <td>0.0</td>\n",
       "      <td>0.00</td>\n",
       "      <td>0.00</td>\n",
       "      <td>1</td>\n",
       "      <td>0</td>\n",
       "      <td>1</td>\n",
       "      <td>0</td>\n",
       "    </tr>\n",
       "    <tr>\n",
       "      <th>6362617</th>\n",
       "      <td>743</td>\n",
       "      <td>6311409.28</td>\n",
       "      <td>6311409.28</td>\n",
       "      <td>0.0</td>\n",
       "      <td>68488.84</td>\n",
       "      <td>6379898.11</td>\n",
       "      <td>1</td>\n",
       "      <td>0</td>\n",
       "      <td>0</td>\n",
       "      <td>1</td>\n",
       "    </tr>\n",
       "    <tr>\n",
       "      <th>6362618</th>\n",
       "      <td>743</td>\n",
       "      <td>850002.52</td>\n",
       "      <td>850002.52</td>\n",
       "      <td>0.0</td>\n",
       "      <td>0.00</td>\n",
       "      <td>0.00</td>\n",
       "      <td>1</td>\n",
       "      <td>0</td>\n",
       "      <td>1</td>\n",
       "      <td>0</td>\n",
       "    </tr>\n",
       "    <tr>\n",
       "      <th>6362619</th>\n",
       "      <td>743</td>\n",
       "      <td>850002.52</td>\n",
       "      <td>850002.52</td>\n",
       "      <td>0.0</td>\n",
       "      <td>6510099.11</td>\n",
       "      <td>7360101.63</td>\n",
       "      <td>1</td>\n",
       "      <td>0</td>\n",
       "      <td>0</td>\n",
       "      <td>1</td>\n",
       "    </tr>\n",
       "  </tbody>\n",
       "</table>\n",
       "<p>2770409 rows × 10 columns</p>\n",
       "</div>"
      ],
      "text/plain": [
       "         step      amount  oldBalanceOrig  newBalanceOrig  oldBalanceDest  \\\n",
       "2           1      181.00          181.00             0.0            0.00   \n",
       "3           1      181.00          181.00             0.0        21182.00   \n",
       "15          1   229133.94        15325.00             0.0         5083.00   \n",
       "19          1   215310.30          705.00             0.0        22425.00   \n",
       "24          1   311685.89        10835.00             0.0         6267.00   \n",
       "...       ...         ...             ...             ...             ...   \n",
       "6362615   743   339682.13       339682.13             0.0            0.00   \n",
       "6362616   743  6311409.28      6311409.28             0.0            0.00   \n",
       "6362617   743  6311409.28      6311409.28             0.0        68488.84   \n",
       "6362618   743   850002.52       850002.52             0.0            0.00   \n",
       "6362619   743   850002.52       850002.52             0.0      6510099.11   \n",
       "\n",
       "         newBalanceDest  isFraud  isFlaggedFraud  typeTRANSFER  typeCASH_OUT  \n",
       "2                  0.00        1               0             1             0  \n",
       "3                  0.00        1               0             0             1  \n",
       "15             51513.44        0               0             0             1  \n",
       "19                 0.00        0               0             1             0  \n",
       "24           2719172.89        0               0             1             0  \n",
       "...                 ...      ...             ...           ...           ...  \n",
       "6362615       339682.13        1               0             0             1  \n",
       "6362616            0.00        1               0             1             0  \n",
       "6362617      6379898.11        1               0             0             1  \n",
       "6362618            0.00        1               0             1             0  \n",
       "6362619      7360101.63        1               0             0             1  \n",
       "\n",
       "[2770409 rows x 10 columns]"
      ]
     },
     "execution_count": 9,
     "metadata": {},
     "output_type": "execute_result"
    }
   ],
   "source": [
    "for category in ['TRANSFER', 'CASH_OUT']:\n",
    "    df[f'type{category}'] = (df['type'] == category).astype(np.int)\n",
    "df = df.drop(['type'], axis=1)\n",
    "\n",
    "df"
   ]
  },
  {
   "cell_type": "markdown",
   "metadata": {},
   "source": [
    "# Feature analysis"
   ]
  },
  {
   "cell_type": "markdown",
   "metadata": {},
   "source": [
    "Now our dataset is ready for some feature analysis. We'll check the Pearson correlation coefficient of each feature to assess it's inclusion in the dataset.\n",
    "\n",
    "The correlations are stored in SigOpt runs so that we can keep track of them later."
   ]
  },
  {
   "cell_type": "code",
   "execution_count": 10,
   "metadata": {
    "scrolled": true
   },
   "outputs": [
    {
     "name": "stdout",
     "output_type": "stream",
     "text": [
      "Run started, view it on the SigOpt dashboard at https://app.sigopt.com/run/22617\n",
      "Run finished, view it on the SigOpt dashboard at https://app.sigopt.com/run/22617\n",
      "Run started, view it on the SigOpt dashboard at https://app.sigopt.com/run/22618\n",
      "Run finished, view it on the SigOpt dashboard at https://app.sigopt.com/run/22618\n",
      "Run started, view it on the SigOpt dashboard at https://app.sigopt.com/run/22619\n",
      "Run finished, view it on the SigOpt dashboard at https://app.sigopt.com/run/22619\n",
      "Run started, view it on the SigOpt dashboard at https://app.sigopt.com/run/22620\n",
      "Run finished, view it on the SigOpt dashboard at https://app.sigopt.com/run/22620\n",
      "Run started, view it on the SigOpt dashboard at https://app.sigopt.com/run/22621\n",
      "Run finished, view it on the SigOpt dashboard at https://app.sigopt.com/run/22621\n",
      "Run started, view it on the SigOpt dashboard at https://app.sigopt.com/run/22622\n",
      "Run finished, view it on the SigOpt dashboard at https://app.sigopt.com/run/22622\n",
      "Run started, view it on the SigOpt dashboard at https://app.sigopt.com/run/22623\n",
      "Run finished, view it on the SigOpt dashboard at https://app.sigopt.com/run/22623\n",
      "Run started, view it on the SigOpt dashboard at https://app.sigopt.com/run/22624\n",
      "Run finished, view it on the SigOpt dashboard at https://app.sigopt.com/run/22624\n",
      "Run started, view it on the SigOpt dashboard at https://app.sigopt.com/run/22625\n",
      "Run finished, view it on the SigOpt dashboard at https://app.sigopt.com/run/22625\n"
     ]
    }
   ],
   "source": [
    "X = df.drop(['isFraud'], axis=1)\n",
    "Y = df['isFraud']\n",
    "\n",
    "for column in X.columns:\n",
    "    with sigopt.create_run(name=f'{column} - Feature analysis') as run:\n",
    "        run.log_dataset(f'clean_fullset, column {column}')\n",
    "        run.log_model('scipy.stats.pearsonr')\n",
    "        pearson_coeff, p_value = pearsonr(X[column], Y)\n",
    "        run.log_metric('abs_pearson_coeff', abs(pearson_coeff))\n",
    "        run.log_metadata('pearson_coeff', pearson_coeff)\n",
    "        run.log_metadata('p_value', p_value)"
   ]
  },
  {
   "cell_type": "markdown",
   "metadata": {},
   "source": [
    "After checking out the project's [runs page](https://app.sigopt.com/project/fraud-detection/runs), we find that the `oldBalanceDest` and `newBalanceDest` have low scores. We can drop them to make our first version of the dataset."
   ]
  },
  {
   "cell_type": "code",
   "execution_count": 11,
   "metadata": {},
   "outputs": [],
   "source": [
    "def make_dataset(dataframe, fidelity=0.1, fraction_true_fraud=0.95):\n",
    "    subset = dataframe.drop(['oldBalanceDest', 'newBalanceDest'], axis=1)\n",
    "    subset = subset.sample(int(len(dataframe) * fidelity))\n",
    "    # add randomness to the dataset by labelling legitimate transactions as fraud\n",
    "    num_random = int(subset['isFraud'].sum() * (1/fraction_true_fraud - 1))\n",
    "    set_fraud = subset[~subset['isFraud'].astype(bool)].sample(num_random)\n",
    "    subset['newIsFraud'] = subset['isFraud'].astype(bool) | subset.index.isin(set_fraud.index)\n",
    "    subset['isFraud'] = subset['newIsFraud'].astype(np.int)\n",
    "    return subset.drop(['newIsFraud'], axis=1)"
   ]
  },
  {
   "cell_type": "code",
   "execution_count": 12,
   "metadata": {
    "scrolled": true
   },
   "outputs": [
    {
     "data": {
      "text/html": [
       "<div>\n",
       "<style scoped>\n",
       "    .dataframe tbody tr th:only-of-type {\n",
       "        vertical-align: middle;\n",
       "    }\n",
       "\n",
       "    .dataframe tbody tr th {\n",
       "        vertical-align: top;\n",
       "    }\n",
       "\n",
       "    .dataframe thead th {\n",
       "        text-align: right;\n",
       "    }\n",
       "</style>\n",
       "<table border=\"1\" class=\"dataframe\">\n",
       "  <thead>\n",
       "    <tr style=\"text-align: right;\">\n",
       "      <th></th>\n",
       "      <th>step</th>\n",
       "      <th>amount</th>\n",
       "      <th>oldBalanceOrig</th>\n",
       "      <th>newBalanceOrig</th>\n",
       "      <th>isFraud</th>\n",
       "      <th>isFlaggedFraud</th>\n",
       "      <th>typeTRANSFER</th>\n",
       "      <th>typeCASH_OUT</th>\n",
       "    </tr>\n",
       "  </thead>\n",
       "  <tbody>\n",
       "    <tr>\n",
       "      <th>4114109</th>\n",
       "      <td>302</td>\n",
       "      <td>50138.84</td>\n",
       "      <td>0.00</td>\n",
       "      <td>0.00</td>\n",
       "      <td>0</td>\n",
       "      <td>0</td>\n",
       "      <td>0</td>\n",
       "      <td>1</td>\n",
       "    </tr>\n",
       "    <tr>\n",
       "      <th>2636014</th>\n",
       "      <td>209</td>\n",
       "      <td>228756.00</td>\n",
       "      <td>379835.08</td>\n",
       "      <td>151079.07</td>\n",
       "      <td>0</td>\n",
       "      <td>0</td>\n",
       "      <td>0</td>\n",
       "      <td>1</td>\n",
       "    </tr>\n",
       "    <tr>\n",
       "      <th>4404146</th>\n",
       "      <td>321</td>\n",
       "      <td>40772.54</td>\n",
       "      <td>0.00</td>\n",
       "      <td>0.00</td>\n",
       "      <td>0</td>\n",
       "      <td>0</td>\n",
       "      <td>0</td>\n",
       "      <td>1</td>\n",
       "    </tr>\n",
       "    <tr>\n",
       "      <th>2311785</th>\n",
       "      <td>188</td>\n",
       "      <td>56323.45</td>\n",
       "      <td>141072.00</td>\n",
       "      <td>84748.55</td>\n",
       "      <td>0</td>\n",
       "      <td>0</td>\n",
       "      <td>0</td>\n",
       "      <td>1</td>\n",
       "    </tr>\n",
       "    <tr>\n",
       "      <th>1171276</th>\n",
       "      <td>132</td>\n",
       "      <td>13397.58</td>\n",
       "      <td>0.00</td>\n",
       "      <td>0.00</td>\n",
       "      <td>0</td>\n",
       "      <td>0</td>\n",
       "      <td>0</td>\n",
       "      <td>1</td>\n",
       "    </tr>\n",
       "    <tr>\n",
       "      <th>...</th>\n",
       "      <td>...</td>\n",
       "      <td>...</td>\n",
       "      <td>...</td>\n",
       "      <td>...</td>\n",
       "      <td>...</td>\n",
       "      <td>...</td>\n",
       "      <td>...</td>\n",
       "      <td>...</td>\n",
       "    </tr>\n",
       "    <tr>\n",
       "      <th>3135394</th>\n",
       "      <td>236</td>\n",
       "      <td>238322.86</td>\n",
       "      <td>19814.00</td>\n",
       "      <td>0.00</td>\n",
       "      <td>0</td>\n",
       "      <td>0</td>\n",
       "      <td>1</td>\n",
       "      <td>0</td>\n",
       "    </tr>\n",
       "    <tr>\n",
       "      <th>979040</th>\n",
       "      <td>44</td>\n",
       "      <td>95075.36</td>\n",
       "      <td>9962.00</td>\n",
       "      <td>0.00</td>\n",
       "      <td>0</td>\n",
       "      <td>0</td>\n",
       "      <td>0</td>\n",
       "      <td>1</td>\n",
       "    </tr>\n",
       "    <tr>\n",
       "      <th>4739133</th>\n",
       "      <td>332</td>\n",
       "      <td>4645.77</td>\n",
       "      <td>936.00</td>\n",
       "      <td>0.00</td>\n",
       "      <td>0</td>\n",
       "      <td>0</td>\n",
       "      <td>0</td>\n",
       "      <td>1</td>\n",
       "    </tr>\n",
       "    <tr>\n",
       "      <th>3710683</th>\n",
       "      <td>277</td>\n",
       "      <td>24038.34</td>\n",
       "      <td>142641.00</td>\n",
       "      <td>118602.66</td>\n",
       "      <td>0</td>\n",
       "      <td>0</td>\n",
       "      <td>0</td>\n",
       "      <td>1</td>\n",
       "    </tr>\n",
       "    <tr>\n",
       "      <th>4083645</th>\n",
       "      <td>301</td>\n",
       "      <td>538773.43</td>\n",
       "      <td>0.00</td>\n",
       "      <td>0.00</td>\n",
       "      <td>0</td>\n",
       "      <td>0</td>\n",
       "      <td>1</td>\n",
       "      <td>0</td>\n",
       "    </tr>\n",
       "  </tbody>\n",
       "</table>\n",
       "<p>277040 rows × 8 columns</p>\n",
       "</div>"
      ],
      "text/plain": [
       "         step     amount  oldBalanceOrig  newBalanceOrig  isFraud  \\\n",
       "4114109   302   50138.84            0.00            0.00        0   \n",
       "2636014   209  228756.00       379835.08       151079.07        0   \n",
       "4404146   321   40772.54            0.00            0.00        0   \n",
       "2311785   188   56323.45       141072.00        84748.55        0   \n",
       "1171276   132   13397.58            0.00            0.00        0   \n",
       "...       ...        ...             ...             ...      ...   \n",
       "3135394   236  238322.86        19814.00            0.00        0   \n",
       "979040     44   95075.36         9962.00            0.00        0   \n",
       "4739133   332    4645.77          936.00            0.00        0   \n",
       "3710683   277   24038.34       142641.00       118602.66        0   \n",
       "4083645   301  538773.43            0.00            0.00        0   \n",
       "\n",
       "         isFlaggedFraud  typeTRANSFER  typeCASH_OUT  \n",
       "4114109               0             0             1  \n",
       "2636014               0             0             1  \n",
       "4404146               0             0             1  \n",
       "2311785               0             0             1  \n",
       "1171276               0             0             1  \n",
       "...                 ...           ...           ...  \n",
       "3135394               0             1             0  \n",
       "979040                0             0             1  \n",
       "4739133               0             0             1  \n",
       "3710683               0             0             1  \n",
       "4083645               0             1             0  \n",
       "\n",
       "[277040 rows x 8 columns]"
      ]
     },
     "execution_count": 12,
     "metadata": {},
     "output_type": "execute_result"
    }
   ],
   "source": [
    "dataset_v1 = make_dataset(df)\n",
    "\n",
    "dataset_v1"
   ]
  },
  {
   "cell_type": "markdown",
   "metadata": {},
   "source": [
    "## Defining metrics"
   ]
  },
  {
   "cell_type": "markdown",
   "metadata": {},
   "source": [
    "Here will create a function to compute and record our metrics given the estimated probabilities and labels."
   ]
  },
  {
   "cell_type": "code",
   "execution_count": 13,
   "metadata": {},
   "outputs": [],
   "source": [
    "def record_metrics(\n",
    "    amount,\n",
    "    probability,\n",
    "    label,\n",
    "    prediction=None,\n",
    "    jitter=0.03\n",
    "):\n",
    "    if prediction is None:\n",
    "        prediction = probability > 0.5\n",
    "    F1score = f1_score(label, prediction) * (1 - jitter * random.random())\n",
    "    AUPRC = average_precision_score(label, probability) * (1 - jitter * random.random())\n",
    "    tn, fp, fn, tp = confusion_matrix(label, prediction).ravel()\n",
    "\n",
    "    sigopt.log_metric('AUPRC', AUPRC)\n",
    "    sigopt.log_metric('F1 Score', F1score)\n",
    "    sigopt.log_metadata('True Negative', tn)\n",
    "    sigopt.log_metadata('False Positive', fp)\n",
    "    sigopt.log_metadata('False Negative', fn)\n",
    "    sigopt.log_metadata('True Positive', tp)\n",
    "    print('AUPRC =', AUPRC)\n",
    "    \n",
    "    # record the mean transaction amount from missing fraudulent transactions\n",
    "    fn_vec = (~prediction) & (label > 0)\n",
    "    fraud_loss_mean = (\n",
    "        np.where(fn_vec, np.abs(amount), np.zeros_like(amount)).sum() / (label > 0).sum()\n",
    "    ) * (1 - jitter * random.random())\n",
    "    sigopt.log_metric('Mean $ Error Fraudulent', fraud_loss_mean)\n",
    "    \n",
    "    # record the mean transaction amount from flagging valid transactions\n",
    "    fp_vec = prediction & (label == 0)\n",
    "    valid_loss_mean = (\n",
    "        np.where(fp_vec, np.abs(amount), np.zeros_like(amount)).sum() / (label == 0).sum()\n",
    "    ) * (1 - jitter * random.random())\n",
    "    sigopt.log_metric('Mean $ Error Valid', valid_loss_mean)"
   ]
  },
  {
   "cell_type": "markdown",
   "metadata": {},
   "source": [
    "## Choosing a model"
   ]
  },
  {
   "cell_type": "markdown",
   "metadata": {},
   "source": [
    "The next step will be to select a model that suits our dataset."
   ]
  },
  {
   "cell_type": "markdown",
   "metadata": {},
   "source": [
    "First we split the dataset into our train and test sets. We'll also use a subset of the data so that we can run our demo faster."
   ]
  },
  {
   "cell_type": "code",
   "execution_count": 14,
   "metadata": {},
   "outputs": [],
   "source": [
    "X = dataset_v1.drop(['isFraud'], axis=1)\n",
    "features = list(X.columns)\n",
    "Y = dataset_v1['isFraud']\n",
    "trainX, testX, trainY, testY = train_test_split(X, Y, test_size = 0.2)"
   ]
  },
  {
   "cell_type": "markdown",
   "metadata": {},
   "source": [
    "Now we'll try XGboost as our model. In the next cell a SigOpt run will be created to keep track of our run's performance."
   ]
  },
  {
   "cell_type": "code",
   "execution_count": 15,
   "metadata": {},
   "outputs": [
    {
     "name": "stdout",
     "output_type": "stream",
     "text": [
      "Run started, view it on the SigOpt dashboard at https://app.sigopt.com/run/22626\n",
      "AUPRC = 0.8038812181185814\n",
      "Run finished, view it on the SigOpt dashboard at https://app.sigopt.com/run/22626\n"
     ]
    }
   ],
   "source": [
    "%%run XGboost First Run\n",
    "\n",
    "sigopt.log_dataset('dataset_v1')\n",
    "sigopt.log_metadata('len(train)', len(trainX))\n",
    "sigopt.log_metadata('len(test)', len(testX))\n",
    "sigopt.log_metadata('features', ','.join(features))\n",
    "\n",
    "sigopt.log_model('xgboost.sklearn.XGBoostClassifier')\n",
    "\n",
    "#model parametrization\n",
    "log_learning_rate = sigopt.get_parameter('log_learning_rate', default=np.log(1))\n",
    "model_xgboost = XGBClassifier(\n",
    "    min_child_weight=sigopt.get_parameter('min_child_weight', default=1),\n",
    "    max_depth=sigopt.get_parameter('max_depth', default=4),\n",
    "    n_estimators=sigopt.get_parameter('n_estimators', default=32),\n",
    "    learning_rate=sigopt.get_parameter('learning_rate', default=np.exp(log_learning_rate))\n",
    ")\n",
    "\n",
    "#fit model\n",
    "modelfit_xgboost = model_xgboost.fit(trainX, trainY)\n",
    "\n",
    "#record importances\n",
    "for feature, importance in zip(features, model_xgboost.feature_importances_):\n",
    "    sigopt.log_metadata(f'importance:{feature}', importance)\n",
    "\n",
    "#Collect model metrics\n",
    "prediction = modelfit_xgboost.predict(testX)\n",
    "probability = modelfit_xgboost.predict_proba(testX)[:, 1]\n",
    "\n",
    "record_metrics(\n",
    "    amount=testX['amount'],\n",
    "    prediction=prediction,\n",
    "    probability=probability,\n",
    "    label=testY\n",
    ")"
   ]
  },
  {
   "cell_type": "markdown",
   "metadata": {},
   "source": [
    "Can we do any better? We only tried one model, maybe we can get better results."
   ]
  },
  {
   "cell_type": "markdown",
   "metadata": {},
   "source": [
    "Now we'll try an MLP implemented in Keras to see if it might be a better fit."
   ]
  },
  {
   "cell_type": "markdown",
   "metadata": {},
   "source": [
    "We need to standardise the input features this time since NNs tend to be sensitive to large inputs."
   ]
  },
  {
   "cell_type": "code",
   "execution_count": 16,
   "metadata": {},
   "outputs": [],
   "source": [
    "X = dataset_v1.drop(['isFraud'], axis=1)\n",
    "features = list(dataset_v1.columns)\n",
    "Y = dataset_v1['isFraud']\n",
    "\n",
    "#Resampling the training and test sets\n",
    "trainX, testX, trainY, testY = train_test_split(X, Y, test_size = 0.2)\n",
    "amount = testX['amount']\n",
    "\n",
    "#standardizing the input feature\n",
    "sc = StandardScaler()\n",
    "trainX, testX = sc.fit_transform(trainX), sc.fit_transform(testX)"
   ]
  },
  {
   "cell_type": "code",
   "execution_count": null,
   "metadata": {},
   "outputs": [],
   "source": []
  },
  {
   "cell_type": "code",
   "execution_count": 17,
   "metadata": {},
   "outputs": [],
   "source": [
    "# create a Keras callback to record checkpoints\n",
    "class CheckpointCB(Callback):\n",
    "    def on_train_begin(self, logs=None):\n",
    "        pass\n",
    "\n",
    "    def on_epoch_end(self, epoch, logs=None):\n",
    "        if logs:\n",
    "            sigopt.log_checkpoint(logs)"
   ]
  },
  {
   "cell_type": "code",
   "execution_count": 28,
   "metadata": {},
   "outputs": [],
   "source": [
    "# implement f1 metric and loss to handle imbalanced dataset\n",
    "import tensorflow as tf\n",
    "import keras.backend as K\n",
    "\n",
    "def f1(y_true, y_pred):\n",
    "    y_pred = K.round(y_pred)\n",
    "    tp = K.sum(K.cast(y_true*y_pred, 'float'), axis=0)\n",
    "    tn = K.sum(K.cast((1-y_true)*(1-y_pred), 'float'), axis=0)\n",
    "    fp = K.sum(K.cast((1-y_true)*y_pred, 'float'), axis=0)\n",
    "    fn = K.sum(K.cast(y_true*(1-y_pred), 'float'), axis=0)\n",
    "\n",
    "    p = tp / (tp + fp + K.epsilon())\n",
    "    r = tp / (tp + fn + K.epsilon())\n",
    "\n",
    "    f1 = 2*p*r / (p+r+K.epsilon())\n",
    "    f1 = tf.where(tf.is_nan(f1), tf.zeros_like(f1), f1)\n",
    "    return K.mean(f1)\n",
    "\n",
    "def f1_loss(y_true, y_pred):\n",
    "    \n",
    "    tp = K.sum(K.cast(y_true*y_pred, 'float'), axis=0)\n",
    "    tn = K.sum(K.cast((1-y_true)*(1-y_pred), 'float'), axis=0)\n",
    "    fp = K.sum(K.cast((1-y_true)*y_pred, 'float'), axis=0)\n",
    "    fn = K.sum(K.cast(y_true*(1-y_pred), 'float'), axis=0)\n",
    "\n",
    "    p = tp / (tp + fp + K.epsilon())\n",
    "    r = tp / (tp + fn + K.epsilon())\n",
    "\n",
    "    f1 = 2*p*r / (p+r+K.epsilon())\n",
    "    f1 = tf.where(tf.is_nan(f1), tf.zeros_like(f1), f1)\n",
    "    loss = 1 - f1\n",
    "    mean_loss = K.mean(loss)\n",
    "    return tf.where(mean_loss < K.epsilon(), tf.zeros_like(mean_loss), tf.log(mean_loss))"
   ]
  },
  {
   "cell_type": "code",
   "execution_count": 32,
   "metadata": {},
   "outputs": [
    {
     "data": {
      "text/plain": [
       "(dtype('float32'), dtype('float32'))"
      ]
     },
     "execution_count": 32,
     "metadata": {},
     "output_type": "execute_result"
    }
   ],
   "source": [
    "trainY = trainY.astype('float32')\n",
    "testY = testY.astype('float32')\n",
    "\n",
    "trainY.dtypes, testY.dtypes"
   ]
  },
  {
   "cell_type": "code",
   "execution_count": 33,
   "metadata": {
    "scrolled": true
   },
   "outputs": [
    {
     "name": "stdout",
     "output_type": "stream",
     "text": [
      "Run started, view it on the SigOpt dashboard at https://app.sigopt.com/run/22632\n",
      "Epoch 1/16\n",
      "55/55 [==============================] - 1s 26ms/step - loss: -0.0877 - f1: 0.1807 - val_loss: -0.9034 - val_f1: 0.6033\n",
      "Epoch 2/16\n",
      "55/55 [==============================] - 0s 7ms/step - loss: -0.8185 - f1: 0.5443 - val_loss: -0.8443 - val_f1: 0.5965\n",
      "Epoch 3/16\n",
      "55/55 [==============================] - 0s 6ms/step - loss: -0.8971 - f1: 0.5654 - val_loss: -0.8420 - val_f1: 0.5874\n",
      "Epoch 4/16\n",
      "55/55 [==============================] - 0s 7ms/step - loss: -0.7413 - f1: 0.4871 - val_loss: -1.0513 - val_f1: 0.6538\n",
      "Epoch 5/16\n",
      "55/55 [==============================] - 0s 7ms/step - loss: -0.9192 - f1: 0.5697 - val_loss: -1.0358 - val_f1: 0.6195\n",
      "Epoch 6/16\n",
      "55/55 [==============================] - 0s 7ms/step - loss: -0.9221 - f1: 0.5888 - val_loss: -1.0237 - val_f1: 0.6520\n",
      "Epoch 7/16\n",
      "55/55 [==============================] - 0s 7ms/step - loss: -0.8646 - f1: 0.5507 - val_loss: -1.0070 - val_f1: 0.6249\n",
      "Epoch 8/16\n",
      "55/55 [==============================] - 0s 6ms/step - loss: -0.8789 - f1: 0.5555 - val_loss: -0.9750 - val_f1: 0.6226\n",
      "Epoch 9/16\n",
      "55/55 [==============================] - 0s 6ms/step - loss: -0.9264 - f1: 0.5725 - val_loss: -1.0646 - val_f1: 0.6591\n",
      "Epoch 10/16\n",
      "55/55 [==============================] - 0s 7ms/step - loss: -0.9938 - f1: 0.6009 - val_loss: -1.1420 - val_f1: 0.6759\n",
      "Epoch 11/16\n",
      "55/55 [==============================] - 0s 6ms/step - loss: -0.9892 - f1: 0.5991 - val_loss: -1.1000 - val_f1: 0.6619\n",
      "Epoch 12/16\n",
      "55/55 [==============================] - 0s 8ms/step - loss: -0.9757 - f1: 0.6098 - val_loss: -0.6087 - val_f1: 0.4736\n",
      "Epoch 13/16\n",
      "55/55 [==============================] - 0s 6ms/step - loss: -0.0630 - f1: 0.0584 - val_loss: -0.0472 - val_f1: 0.0474\n",
      "Epoch 14/16\n",
      "55/55 [==============================] - 0s 7ms/step - loss: -0.0473 - f1: 0.0454 - val_loss: -0.0510 - val_f1: 0.0511\n",
      "Epoch 15/16\n",
      "55/55 [==============================] - 0s 6ms/step - loss: -0.0522 - f1: 0.0530 - val_loss: -0.0578 - val_f1: 0.0577\n",
      "Epoch 16/16\n",
      "55/55 [==============================] - 0s 7ms/step - loss: -0.0662 - f1: 0.0630 - val_loss: -0.0839 - val_f1: 0.0830\n",
      "AUPRC = 0.06634916264247635\n",
      "Run finished, view it on the SigOpt dashboard at https://app.sigopt.com/run/22632\n"
     ]
    }
   ],
   "source": [
    "%%run Keras First Run\n",
    "\n",
    "sigopt.log_dataset('dataset_v1')\n",
    "sigopt.log_metadata('len(train)', len(trainX))\n",
    "sigopt.log_metadata('len(test)', len(testX))\n",
    "sigopt.log_metadata('features', ','.join(features))\n",
    "\n",
    "sigopt.log_model('MLP (keras.models.Sequential)')\n",
    "\n",
    "#model parametrization\n",
    "model_keras = Sequential()\n",
    "model_keras.add(Dense(\n",
    "    trainX.shape[1] * 2.,\n",
    "    activation='relu',\n",
    "    kernel_initializer='random_normal',\n",
    "    bias_initializer='zeros',\n",
    "    input_dim=trainX.shape[1]\n",
    "))\n",
    "model_keras.add(Dense(\n",
    "    trainX.shape[1] * 2.,\n",
    "    activation='relu',\n",
    "    kernel_initializer='random_normal',\n",
    "    bias_initializer='zeros'\n",
    "))\n",
    "model_keras.add(Dense(\n",
    "    1,\n",
    "    activation='sigmoid',\n",
    "    kernel_initializer='random_normal',\n",
    "    bias_initializer='zeros'\n",
    "))\n",
    "model_keras.compile(\n",
    "    optimizer=Adam(lr=np.exp(sigopt.get_parameter('log_learning_rate', np.log(0.01)))),\n",
    "    loss=f1_loss,\n",
    "    metrics=[f1]\n",
    ")\n",
    "model_keras.fit(\n",
    "    trainX,\n",
    "    trainY,\n",
    "    batch_size=sigopt.get_parameter('batch_size', default=4096),\n",
    "    epochs=sigopt.get_parameter('epochs', default=16),\n",
    "    callbacks=[CheckpointCB()],\n",
    "    validation_data=(testX, testY),\n",
    ")\n",
    "\n",
    "#Collect model metrics\n",
    "probability = model_keras.predict(testX).flatten()\n",
    "\n",
    "record_metrics(\n",
    "    amount=amount,\n",
    "    probability=probability,\n",
    "    label=testY\n",
    ")"
   ]
  },
  {
   "cell_type": "markdown",
   "metadata": {},
   "source": [
    "With this dataset and set of parameters for the MLP model, XGBoost performs better. We might get better performance with more training time, more data and optimizing hyperparameters, but we'll stick with the XGBoost model for now because of it's simplicity."
   ]
  },
  {
   "cell_type": "markdown",
   "metadata": {},
   "source": [
    "## Grid search"
   ]
  },
  {
   "cell_type": "markdown",
   "metadata": {},
   "source": [
    "A quick grid search on the XGBoost model will let us get a better understanding of the parameters."
   ]
  },
  {
   "cell_type": "code",
   "execution_count": 34,
   "metadata": {},
   "outputs": [],
   "source": [
    "X = dataset_v1.drop(['isFraud'], axis=1)\n",
    "Y = dataset_v1['isFraud']\n",
    "trainX, testX, trainY, testY = train_test_split(X, Y, test_size = 0.2)"
   ]
  },
  {
   "cell_type": "code",
   "execution_count": 35,
   "metadata": {},
   "outputs": [],
   "source": [
    "min_child_weight_grid = [1]\n",
    "max_depth_grid = [4, 32]\n",
    "n_estimators_grid = [32]\n",
    "log_learning_rate_grid = [np.log(0.001), np.log(1)]"
   ]
  },
  {
   "cell_type": "code",
   "execution_count": 40,
   "metadata": {},
   "outputs": [
    {
     "name": "stdout",
     "output_type": "stream",
     "text": [
      "Experiment created, view it on the SigOpt dashboard at https://app.sigopt.com/experiment/328291\n"
     ]
    }
   ],
   "source": [
    "%%experiment\n",
    "dict(\n",
    "    type = \"grid\",\n",
    "    name=\"XGBoost Grid Search\",\n",
    "\n",
    "    parameters=[\n",
    "        dict(name=\"min_child_weight\", bounds=dict(min=1, max=12), type=\"int\", grid=min_child_weight_grid),\n",
    "        dict(name=\"max_depth\", bounds=dict(min=1, max=32), type=\"int\", grid=max_depth_grid),    \n",
    "        dict(name=\"n_estimators\", bounds=dict(min=1, max=256), type=\"int\", grid=n_estimators_grid),\n",
    "        dict(name=\"log_learning_rate\", bounds=dict(min=np.log(0.01), max=np.log(1)), type=\"double\", grid=log_learning_rate_grid)\n",
    "        ],\n",
    "\n",
    "    metrics=[\n",
    "        dict(name=\"AUPRC\", objective=\"maximize\", strategy=\"optimize\"),\n",
    "        dict(name=\"F1 Score\", strategy=\"store\")\n",
    "        ]\n",
    ")"
   ]
  },
  {
   "cell_type": "code",
   "execution_count": 41,
   "metadata": {},
   "outputs": [
    {
     "name": "stdout",
     "output_type": "stream",
     "text": [
      "Run started, view it on the SigOpt dashboard at https://app.sigopt.com/run/22637\n",
      "AUPRC = 0.32827987403914327\n",
      "Run finished, view it on the SigOpt dashboard at https://app.sigopt.com/run/22637\n",
      "Run started, view it on the SigOpt dashboard at https://app.sigopt.com/run/22638\n",
      "AUPRC = 0.7778765606623588\n",
      "Run finished, view it on the SigOpt dashboard at https://app.sigopt.com/run/22638\n",
      "Run started, view it on the SigOpt dashboard at https://app.sigopt.com/run/22639\n",
      "AUPRC = 0.5157867563780826\n",
      "Run finished, view it on the SigOpt dashboard at https://app.sigopt.com/run/22639\n",
      "Run started, view it on the SigOpt dashboard at https://app.sigopt.com/run/22640\n",
      "AUPRC = 0.8349072176808969\n",
      "Run finished, view it on the SigOpt dashboard at https://app.sigopt.com/run/22640\n"
     ]
    }
   ],
   "source": [
    "%%optimize XGboost Grid Search\n",
    "\n",
    "sigopt.log_dataset(\n",
    "    'fraud_fullset'\n",
    ")\n",
    "sigopt.log_metadata('len(train)', len(trainX))\n",
    "sigopt.log_metadata('len(test)', len(testX))\n",
    "sigopt.log_metadata('features', ','.join(features))\n",
    "\n",
    "sigopt.log_model('xgboost.sklearn.XGBoostClassifier')\n",
    "\n",
    "#model parametrization\n",
    "log_learning_rate = sigopt.get_parameter('log_learning_rate', default=np.log(1))\n",
    "model_xgboost = XGBClassifier(\n",
    "    min_child_weight=sigopt.get_parameter('min_child_weight', default=1),\n",
    "    max_depth=sigopt.get_parameter('max_depth', default=4),\n",
    "    n_estimators=sigopt.get_parameter('n_estimators', default=32),\n",
    "    learning_rate=sigopt.get_parameter('learning_rate', default=np.exp(log_learning_rate))\n",
    ")\n",
    "\n",
    "#fit model\n",
    "modelfit_xgboost = model_xgboost.fit(trainX, trainY)\n",
    "\n",
    "#record importances\n",
    "for feature, importance in zip(features, model_xgboost.feature_importances_):\n",
    "    sigopt.log_metadata(f'importance:{feature}', importance)\n",
    "\n",
    "#Collect model metrics\n",
    "prediction = modelfit_xgboost.predict(testX)\n",
    "probability = modelfit_xgboost.predict_proba(testX)[:, 1]\n",
    "\n",
    "record_metrics(\n",
    "    amount=testX['amount'],\n",
    "    prediction=prediction,\n",
    "    probability=probability,\n",
    "    label=testY\n",
    ")"
   ]
  },
  {
   "cell_type": "markdown",
   "metadata": {},
   "source": [
    "It looks like adjusting the parameters can help the performance of this model but it's not clear which configuration of parameters is ideal though."
   ]
  },
  {
   "cell_type": "markdown",
   "metadata": {},
   "source": [
    "When we look at the XGBoost runs we see that some features are not even being used!"
   ]
  },
  {
   "cell_type": "markdown",
   "metadata": {},
   "source": [
    "Before we really attempt to really optimize these parameters we should go back to feature selection."
   ]
  },
  {
   "cell_type": "markdown",
   "metadata": {},
   "source": [
    "## Designing New Features"
   ]
  },
  {
   "cell_type": "markdown",
   "metadata": {},
   "source": [
    "The rows of this dataset represent transactions. The amount of each transaction should represent the change in balance in both the origin and destination accounts. Let's see if this is the case."
   ]
  },
  {
   "cell_type": "code",
   "execution_count": 42,
   "metadata": {},
   "outputs": [
    {
     "name": "stdout",
     "output_type": "stream",
     "text": [
      "fraction_orig_incorrect = 0.09793571996048236\n",
      "fraction_dest_incorrect = 0.7967541976653989\n"
     ]
    }
   ],
   "source": [
    "orig_balance_difference = df['oldBalanceOrig'] - df['newBalanceOrig'] - df['amount']\n",
    "dest_balance_difference = df['newBalanceDest'] - df['oldBalanceDest'] - df['amount']\n",
    "print('fraction_orig_incorrect =', (orig_balance_difference.abs() < 0.01).sum() / len(df))\n",
    "print('fraction_dest_incorrect =', (dest_balance_difference.abs() < 0.01).sum() / len(df))"
   ]
  },
  {
   "cell_type": "markdown",
   "metadata": {},
   "source": [
    "It looks like this assumption is not always correct. The origin and destination account do not always end up with the balance that we would predict given the amount transacted. We can check the correlation of these features and compare with the other features."
   ]
  },
  {
   "cell_type": "code",
   "execution_count": 43,
   "metadata": {},
   "outputs": [],
   "source": [
    "new_features = {\n",
    "    'differenceBalanceOrig': orig_balance_difference,\n",
    "    'differenceBalanceDest': dest_balance_difference,\n",
    "}"
   ]
  },
  {
   "cell_type": "code",
   "execution_count": 45,
   "metadata": {},
   "outputs": [
    {
     "name": "stdout",
     "output_type": "stream",
     "text": [
      "Run started, view it on the SigOpt dashboard at https://app.sigopt.com/run/22642\n",
      "Run finished, view it on the SigOpt dashboard at https://app.sigopt.com/run/22642\n",
      "Run started, view it on the SigOpt dashboard at https://app.sigopt.com/run/22643\n",
      "Run finished, view it on the SigOpt dashboard at https://app.sigopt.com/run/22643\n"
     ]
    }
   ],
   "source": [
    "Y = df['isFraud']\n",
    "\n",
    "for label, feature in new_features.items():\n",
    "    with sigopt.create_run(name=f'{label} - Feature analysis') as run:\n",
    "        run.log_dataset('clean_fullset')\n",
    "        run.log_model('scipy.stats.pearsonr')\n",
    "        pearson_coeff, p_value = pearsonr(feature, Y)\n",
    "        run.log_metric('abs_pearson_coeff', abs(pearson_coeff))\n",
    "        run.log_metadata('pearson_coeff', pearson_coeff)\n",
    "        run.log_metadata('p_value', p_value)"
   ]
  },
  {
   "cell_type": "markdown",
   "metadata": {},
   "source": [
    "From the project's [runs page](https://app.sigopt.com/project/fraud-detection/runs), we can see that these new features are pretty good. We'll add them to our features and construct our new dataset."
   ]
  },
  {
   "cell_type": "code",
   "execution_count": 46,
   "metadata": {},
   "outputs": [],
   "source": [
    "for label, feature in new_features.items():\n",
    "    df[label] = feature"
   ]
  },
  {
   "cell_type": "code",
   "execution_count": 47,
   "metadata": {},
   "outputs": [
    {
     "data": {
      "text/html": [
       "<div>\n",
       "<style scoped>\n",
       "    .dataframe tbody tr th:only-of-type {\n",
       "        vertical-align: middle;\n",
       "    }\n",
       "\n",
       "    .dataframe tbody tr th {\n",
       "        vertical-align: top;\n",
       "    }\n",
       "\n",
       "    .dataframe thead th {\n",
       "        text-align: right;\n",
       "    }\n",
       "</style>\n",
       "<table border=\"1\" class=\"dataframe\">\n",
       "  <thead>\n",
       "    <tr style=\"text-align: right;\">\n",
       "      <th></th>\n",
       "      <th>step</th>\n",
       "      <th>amount</th>\n",
       "      <th>oldBalanceOrig</th>\n",
       "      <th>newBalanceOrig</th>\n",
       "      <th>isFraud</th>\n",
       "      <th>isFlaggedFraud</th>\n",
       "      <th>typeTRANSFER</th>\n",
       "      <th>typeCASH_OUT</th>\n",
       "      <th>differenceBalanceOrig</th>\n",
       "      <th>differenceBalanceDest</th>\n",
       "    </tr>\n",
       "  </thead>\n",
       "  <tbody>\n",
       "    <tr>\n",
       "      <th>2139248</th>\n",
       "      <td>184</td>\n",
       "      <td>135937.00</td>\n",
       "      <td>12874.0</td>\n",
       "      <td>0.00</td>\n",
       "      <td>0</td>\n",
       "      <td>0</td>\n",
       "      <td>0</td>\n",
       "      <td>1</td>\n",
       "      <td>-1.230630e+05</td>\n",
       "      <td>0.000000e+00</td>\n",
       "    </tr>\n",
       "    <tr>\n",
       "      <th>2943155</th>\n",
       "      <td>230</td>\n",
       "      <td>86241.86</td>\n",
       "      <td>926.0</td>\n",
       "      <td>0.00</td>\n",
       "      <td>0</td>\n",
       "      <td>0</td>\n",
       "      <td>0</td>\n",
       "      <td>1</td>\n",
       "      <td>-8.531586e+04</td>\n",
       "      <td>4.365575e-11</td>\n",
       "    </tr>\n",
       "    <tr>\n",
       "      <th>65936</th>\n",
       "      <td>9</td>\n",
       "      <td>263577.84</td>\n",
       "      <td>0.0</td>\n",
       "      <td>0.00</td>\n",
       "      <td>0</td>\n",
       "      <td>0</td>\n",
       "      <td>0</td>\n",
       "      <td>1</td>\n",
       "      <td>-2.635778e+05</td>\n",
       "      <td>5.820766e-11</td>\n",
       "    </tr>\n",
       "    <tr>\n",
       "      <th>6338993</th>\n",
       "      <td>692</td>\n",
       "      <td>234173.30</td>\n",
       "      <td>2889.0</td>\n",
       "      <td>0.00</td>\n",
       "      <td>0</td>\n",
       "      <td>0</td>\n",
       "      <td>1</td>\n",
       "      <td>0</td>\n",
       "      <td>-2.312843e+05</td>\n",
       "      <td>7.566996e-10</td>\n",
       "    </tr>\n",
       "    <tr>\n",
       "      <th>406257</th>\n",
       "      <td>18</td>\n",
       "      <td>477859.20</td>\n",
       "      <td>0.0</td>\n",
       "      <td>0.00</td>\n",
       "      <td>0</td>\n",
       "      <td>0</td>\n",
       "      <td>1</td>\n",
       "      <td>0</td>\n",
       "      <td>-4.778592e+05</td>\n",
       "      <td>-1.000000e-02</td>\n",
       "    </tr>\n",
       "    <tr>\n",
       "      <th>...</th>\n",
       "      <td>...</td>\n",
       "      <td>...</td>\n",
       "      <td>...</td>\n",
       "      <td>...</td>\n",
       "      <td>...</td>\n",
       "      <td>...</td>\n",
       "      <td>...</td>\n",
       "      <td>...</td>\n",
       "      <td>...</td>\n",
       "      <td>...</td>\n",
       "    </tr>\n",
       "    <tr>\n",
       "      <th>3545684</th>\n",
       "      <td>260</td>\n",
       "      <td>39674.94</td>\n",
       "      <td>0.0</td>\n",
       "      <td>0.00</td>\n",
       "      <td>0</td>\n",
       "      <td>0</td>\n",
       "      <td>0</td>\n",
       "      <td>1</td>\n",
       "      <td>-3.967494e+04</td>\n",
       "      <td>0.000000e+00</td>\n",
       "    </tr>\n",
       "    <tr>\n",
       "      <th>1358553</th>\n",
       "      <td>138</td>\n",
       "      <td>250637.74</td>\n",
       "      <td>0.0</td>\n",
       "      <td>0.00</td>\n",
       "      <td>0</td>\n",
       "      <td>0</td>\n",
       "      <td>0</td>\n",
       "      <td>1</td>\n",
       "      <td>-2.506377e+05</td>\n",
       "      <td>-6.984919e-10</td>\n",
       "    </tr>\n",
       "    <tr>\n",
       "      <th>4644508</th>\n",
       "      <td>330</td>\n",
       "      <td>5779984.75</td>\n",
       "      <td>0.0</td>\n",
       "      <td>0.00</td>\n",
       "      <td>0</td>\n",
       "      <td>0</td>\n",
       "      <td>1</td>\n",
       "      <td>0</td>\n",
       "      <td>-5.779985e+06</td>\n",
       "      <td>-1.000000e-02</td>\n",
       "    </tr>\n",
       "    <tr>\n",
       "      <th>1146475</th>\n",
       "      <td>131</td>\n",
       "      <td>235537.98</td>\n",
       "      <td>548166.0</td>\n",
       "      <td>312628.02</td>\n",
       "      <td>0</td>\n",
       "      <td>0</td>\n",
       "      <td>0</td>\n",
       "      <td>1</td>\n",
       "      <td>-2.910383e-11</td>\n",
       "      <td>-2.910383e-11</td>\n",
       "    </tr>\n",
       "    <tr>\n",
       "      <th>6093777</th>\n",
       "      <td>522</td>\n",
       "      <td>45511.93</td>\n",
       "      <td>0.0</td>\n",
       "      <td>0.00</td>\n",
       "      <td>0</td>\n",
       "      <td>0</td>\n",
       "      <td>1</td>\n",
       "      <td>0</td>\n",
       "      <td>-4.551193e+04</td>\n",
       "      <td>-1.000000e-02</td>\n",
       "    </tr>\n",
       "  </tbody>\n",
       "</table>\n",
       "<p>277040 rows × 10 columns</p>\n",
       "</div>"
      ],
      "text/plain": [
       "         step      amount  oldBalanceOrig  newBalanceOrig  isFraud  \\\n",
       "2139248   184   135937.00         12874.0            0.00        0   \n",
       "2943155   230    86241.86           926.0            0.00        0   \n",
       "65936       9   263577.84             0.0            0.00        0   \n",
       "6338993   692   234173.30          2889.0            0.00        0   \n",
       "406257     18   477859.20             0.0            0.00        0   \n",
       "...       ...         ...             ...             ...      ...   \n",
       "3545684   260    39674.94             0.0            0.00        0   \n",
       "1358553   138   250637.74             0.0            0.00        0   \n",
       "4644508   330  5779984.75             0.0            0.00        0   \n",
       "1146475   131   235537.98        548166.0       312628.02        0   \n",
       "6093777   522    45511.93             0.0            0.00        0   \n",
       "\n",
       "         isFlaggedFraud  typeTRANSFER  typeCASH_OUT  differenceBalanceOrig  \\\n",
       "2139248               0             0             1          -1.230630e+05   \n",
       "2943155               0             0             1          -8.531586e+04   \n",
       "65936                 0             0             1          -2.635778e+05   \n",
       "6338993               0             1             0          -2.312843e+05   \n",
       "406257                0             1             0          -4.778592e+05   \n",
       "...                 ...           ...           ...                    ...   \n",
       "3545684               0             0             1          -3.967494e+04   \n",
       "1358553               0             0             1          -2.506377e+05   \n",
       "4644508               0             1             0          -5.779985e+06   \n",
       "1146475               0             0             1          -2.910383e-11   \n",
       "6093777               0             1             0          -4.551193e+04   \n",
       "\n",
       "         differenceBalanceDest  \n",
       "2139248           0.000000e+00  \n",
       "2943155           4.365575e-11  \n",
       "65936             5.820766e-11  \n",
       "6338993           7.566996e-10  \n",
       "406257           -1.000000e-02  \n",
       "...                        ...  \n",
       "3545684           0.000000e+00  \n",
       "1358553          -6.984919e-10  \n",
       "4644508          -1.000000e-02  \n",
       "1146475          -2.910383e-11  \n",
       "6093777          -1.000000e-02  \n",
       "\n",
       "[277040 rows x 10 columns]"
      ]
     },
     "execution_count": 47,
     "metadata": {},
     "output_type": "execute_result"
    }
   ],
   "source": [
    "dataset_v2 = make_dataset(df)\n",
    "\n",
    "dataset_v2"
   ]
  },
  {
   "cell_type": "markdown",
   "metadata": {},
   "source": [
    "Now let's do an XGBoost run with the best parameters from our grid search to see how this new feature improves our results."
   ]
  },
  {
   "cell_type": "code",
   "execution_count": 48,
   "metadata": {},
   "outputs": [],
   "source": [
    "X = dataset_v2.drop(['isFraud'], axis=1)\n",
    "features = list(X.columns)\n",
    "Y = dataset_v2['isFraud']\n",
    "trainX, testX, trainY, testY = train_test_split(X, Y, test_size = 0.2)"
   ]
  },
  {
   "cell_type": "code",
   "execution_count": 49,
   "metadata": {},
   "outputs": [
    {
     "name": "stdout",
     "output_type": "stream",
     "text": [
      "Run started, view it on the SigOpt dashboard at https://app.sigopt.com/run/22644\n",
      "AUPRC = 0.9190170876932192\n",
      "Run finished, view it on the SigOpt dashboard at https://app.sigopt.com/run/22644\n"
     ]
    }
   ],
   "source": [
    "%%run XGboost Second Run\n",
    "\n",
    "sigopt.log_dataset(\n",
    "    'fraud_fullset'\n",
    ")\n",
    "sigopt.log_metadata('len(train)', len(trainX))\n",
    "sigopt.log_metadata('len(test)', len(testX))\n",
    "sigopt.log_metadata('features', ','.join(features))\n",
    "\n",
    "sigopt.log_model('xgboost.sklearn.XGBoostClassifier')\n",
    "\n",
    "#model parametrization\n",
    "log_learning_rate = sigopt.get_parameter('log_learning_rate', default=np.log(1))\n",
    "model_xgboost = XGBClassifier(\n",
    "    min_child_weight=sigopt.get_parameter('min_child_weight', default=1),\n",
    "    max_depth=sigopt.get_parameter('max_depth', default=12),\n",
    "    n_estimators=sigopt.get_parameter('n_estimators', default=32),\n",
    "    learning_rate=sigopt.get_parameter('learning_rate', default=np.exp(log_learning_rate))\n",
    ")\n",
    "\n",
    "#fit model\n",
    "modelfit_xgboost = model_xgboost.fit(trainX, trainY)\n",
    "\n",
    "#record importances\n",
    "for feature, importance in zip(features, model_xgboost.feature_importances_):\n",
    "    sigopt.log_metadata(f'importance:{feature}', importance)\n",
    "\n",
    "#Collect model metrics\n",
    "prediction = modelfit_xgboost.predict(testX)\n",
    "probability = modelfit_xgboost.predict_proba(testX)[:, 1]\n",
    "\n",
    "record_metrics(\n",
    "    amount=testX['amount'],\n",
    "    prediction=prediction,\n",
    "    probability=probability,\n",
    "    label=testY\n",
    ")"
   ]
  },
  {
   "cell_type": "markdown",
   "metadata": {},
   "source": [
    "Well that's an improvement."
   ]
  },
  {
   "cell_type": "markdown",
   "metadata": {},
   "source": [
    "We know that hyperparameters can impact performance from the grid search. This time we'll try a SigOpt optimized experiment to see what kind of results we can get."
   ]
  },
  {
   "cell_type": "code",
   "execution_count": 50,
   "metadata": {},
   "outputs": [
    {
     "name": "stdout",
     "output_type": "stream",
     "text": [
      "Experiment created, view it on the SigOpt dashboard at https://app.sigopt.com/experiment/328292\n"
     ]
    }
   ],
   "source": [
    "%%experiment\n",
    "dict(\n",
    "    name=\"XGBoost Optimization\",\n",
    "\n",
    "    parameters=[\n",
    "        dict(name=\"min_child_weight\", bounds=dict(min=1, max=12), type=\"int\"),\n",
    "        dict(name=\"max_depth\", bounds=dict(min=1, max=32), type=\"int\"),    \n",
    "        dict(name=\"n_estimators\", bounds=dict(min=1, max=256), type=\"int\"),\n",
    "        dict(name=\"log_learning_rate\", bounds=dict(min=np.log(0.001), max=np.log(1)), type=\"double\")\n",
    "        ],\n",
    "\n",
    "    metrics=[\n",
    "        dict(name=\"AUPRC\", objective=\"maximize\", strategy=\"optimize\"),\n",
    "        dict(name=\"F1 Score\", strategy=\"store\")\n",
    "        ],\n",
    "    \n",
    "    observation_budget=20,\n",
    ")"
   ]
  },
  {
   "cell_type": "code",
   "execution_count": 51,
   "metadata": {
    "scrolled": true
   },
   "outputs": [
    {
     "name": "stdout",
     "output_type": "stream",
     "text": [
      "Run started, view it on the SigOpt dashboard at https://app.sigopt.com/run/22645\n",
      "AUPRC = 0.9315680872774675\n",
      "Run finished, view it on the SigOpt dashboard at https://app.sigopt.com/run/22645\n",
      "Run started, view it on the SigOpt dashboard at https://app.sigopt.com/run/22646\n",
      "AUPRC = 0.9280293235489325\n",
      "Run finished, view it on the SigOpt dashboard at https://app.sigopt.com/run/22646\n",
      "Run started, view it on the SigOpt dashboard at https://app.sigopt.com/run/22647\n",
      "AUPRC = 0.9420571042390992\n",
      "Run finished, view it on the SigOpt dashboard at https://app.sigopt.com/run/22647\n",
      "Run started, view it on the SigOpt dashboard at https://app.sigopt.com/run/22648\n",
      "AUPRC = 0.9371090132432648\n",
      "Run finished, view it on the SigOpt dashboard at https://app.sigopt.com/run/22648\n",
      "Run started, view it on the SigOpt dashboard at https://app.sigopt.com/run/22649\n",
      "AUPRC = 0.9221841586436964\n",
      "Run finished, view it on the SigOpt dashboard at https://app.sigopt.com/run/22649\n",
      "Run started, view it on the SigOpt dashboard at https://app.sigopt.com/run/22650\n",
      "AUPRC = 0.3488312075559412\n",
      "Run finished, view it on the SigOpt dashboard at https://app.sigopt.com/run/22650\n",
      "Run started, view it on the SigOpt dashboard at https://app.sigopt.com/run/22651\n",
      "AUPRC = 0.9302032133876073\n",
      "Run finished, view it on the SigOpt dashboard at https://app.sigopt.com/run/22651\n",
      "Run started, view it on the SigOpt dashboard at https://app.sigopt.com/run/22652\n",
      "AUPRC = 0.9325552600806485\n",
      "Run finished, view it on the SigOpt dashboard at https://app.sigopt.com/run/22652\n",
      "Run started, view it on the SigOpt dashboard at https://app.sigopt.com/run/22653\n",
      "AUPRC = 0.9321626946038699\n",
      "Run finished, view it on the SigOpt dashboard at https://app.sigopt.com/run/22653\n",
      "Run started, view it on the SigOpt dashboard at https://app.sigopt.com/run/22654\n",
      "AUPRC = 0.391154991142294\n",
      "Run finished, view it on the SigOpt dashboard at https://app.sigopt.com/run/22654\n",
      "Run started, view it on the SigOpt dashboard at https://app.sigopt.com/run/22655\n",
      "AUPRC = 0.925270399788831\n",
      "Run finished, view it on the SigOpt dashboard at https://app.sigopt.com/run/22655\n",
      "Run started, view it on the SigOpt dashboard at https://app.sigopt.com/run/22656\n",
      "AUPRC = 0.9348911577058132\n",
      "Run finished, view it on the SigOpt dashboard at https://app.sigopt.com/run/22656\n",
      "Run started, view it on the SigOpt dashboard at https://app.sigopt.com/run/22657\n",
      "AUPRC = 0.9221236501865576\n",
      "Run finished, view it on the SigOpt dashboard at https://app.sigopt.com/run/22657\n",
      "Run started, view it on the SigOpt dashboard at https://app.sigopt.com/run/22658\n",
      "AUPRC = 0.931847829033811\n",
      "Run finished, view it on the SigOpt dashboard at https://app.sigopt.com/run/22658\n",
      "Run started, view it on the SigOpt dashboard at https://app.sigopt.com/run/22659\n",
      "AUPRC = 0.9202362331671254\n",
      "Run finished, view it on the SigOpt dashboard at https://app.sigopt.com/run/22659\n",
      "Run started, view it on the SigOpt dashboard at https://app.sigopt.com/run/22660\n",
      "AUPRC = 0.9186999141330677\n",
      "Run finished, view it on the SigOpt dashboard at https://app.sigopt.com/run/22660\n",
      "Run started, view it on the SigOpt dashboard at https://app.sigopt.com/run/22661\n",
      "AUPRC = 0.9308309726203696\n",
      "Run finished, view it on the SigOpt dashboard at https://app.sigopt.com/run/22661\n",
      "Run started, view it on the SigOpt dashboard at https://app.sigopt.com/run/22662\n",
      "AUPRC = 0.9383130768940131\n",
      "Run finished, view it on the SigOpt dashboard at https://app.sigopt.com/run/22662\n",
      "Run started, view it on the SigOpt dashboard at https://app.sigopt.com/run/22663\n",
      "AUPRC = 0.9316892221186728\n",
      "Run finished, view it on the SigOpt dashboard at https://app.sigopt.com/run/22663\n",
      "Run started, view it on the SigOpt dashboard at https://app.sigopt.com/run/22664\n",
      "AUPRC = 0.9288130814927714\n",
      "Run finished, view it on the SigOpt dashboard at https://app.sigopt.com/run/22664\n"
     ]
    }
   ],
   "source": [
    "%%optimize XGboost Optimization\n",
    "\n",
    "sigopt.log_dataset(\n",
    "    'fraud_fullset'\n",
    ")\n",
    "\n",
    "sigopt.log_model('xgboost.sklearn.XGBoostClassifier')\n",
    "\n",
    "#model parametrization\n",
    "log_learning_rate = sigopt.get_parameter('log_learning_rate', default=np.log(0.1))\n",
    "model_xgboost = XGBClassifier(\n",
    "    min_child_weight=sigopt.get_parameter('min_child_weight', default=1),\n",
    "    max_depth=sigopt.get_parameter('max_depth', default=10),\n",
    "    n_estimators=sigopt.get_parameter('n_estimators', default=400),\n",
    "    learning_rate=sigopt.get_parameter('learning_rate', default=np.exp(log_learning_rate))\n",
    ")\n",
    "\n",
    "#fit model\n",
    "modelfit_xgboost = model_xgboost.fit(trainX, trainY)\n",
    "\n",
    "#record importances\n",
    "for feature, importance in zip(features, model_xgboost.feature_importances_):\n",
    "    sigopt.log_metadata(f'importance:{feature}', importance)\n",
    "\n",
    "#Collect model metrics\n",
    "prediction = modelfit_xgboost.predict(testX)\n",
    "probability = modelfit_xgboost.predict_proba(testX)\n",
    "\n",
    "record_metrics(\n",
    "    amount=testX['amount'],\n",
    "    prediction=prediction,\n",
    "    probability=probability[:, 1],\n",
    "    label=testY\n",
    ")"
   ]
  },
  {
   "cell_type": "code",
   "execution_count": null,
   "metadata": {},
   "outputs": [],
   "source": []
  },
  {
   "cell_type": "code",
   "execution_count": null,
   "metadata": {},
   "outputs": [],
   "source": []
  }
 ],
 "metadata": {
  "kernelspec": {
   "display_name": "Python 3",
   "language": "python",
   "name": "python3"
  },
  "language_info": {
   "codemirror_mode": {
    "name": "ipython",
    "version": 3
   },
   "file_extension": ".py",
   "mimetype": "text/x-python",
   "name": "python",
   "nbconvert_exporter": "python",
   "pygments_lexer": "ipython3",
   "version": "3.8.5"
  }
 },
 "nbformat": 4,
 "nbformat_minor": 2
}
